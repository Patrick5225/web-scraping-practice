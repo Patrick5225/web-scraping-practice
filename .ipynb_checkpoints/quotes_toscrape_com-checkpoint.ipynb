{
 "cells": [
  {
   "cell_type": "markdown",
   "metadata": {},
   "source": [
    "# Webscraping on http://quotes.toscrape.com/"
   ]
  },
  {
   "cell_type": "markdown",
   "metadata": {},
   "source": [
    "**Importing the necessary libraries to scrape websites**"
   ]
  },
  {
   "cell_type": "code",
   "execution_count": 2,
   "metadata": {},
   "outputs": [],
   "source": [
    "import requests\n",
    "import bs4"
   ]
  },
  {
   "cell_type": "markdown",
   "metadata": {},
   "source": [
    "**Use requests and BeautifulSoup libraries to connect to website and get the HMTL text from homepage**"
   ]
  },
  {
   "cell_type": "code",
   "execution_count": 3,
   "metadata": {},
   "outputs": [],
   "source": [
    "result = requests.get(\"http://quotes.toscrape.com/\")"
   ]
  },
  {
   "cell_type": "code",
   "execution_count": 33,
   "metadata": {},
   "outputs": [
    {
     "data": {
      "text/plain": [
       "'<!DOCTYPE html>\\n<html lang=\"en\">\\n<head>\\n\\t<meta charset=\"UTF-8\">\\n\\t<title>Quotes to Scrape</title>\\n    <link rel=\"stylesheet\" href=\"/static/bootstrap.min.css\">\\n    <link rel=\"stylesheet\" href=\"/static/main.css\">\\n</head>\\n<body>\\n    <div class=\"container\">\\n        <div class=\"row header-box\">\\n            <div class=\"col-md-8\">\\n                <h1>\\n                    <a href=\"/\" style=\"text-decoration: none\">Quotes to Scrape</a>\\n                </h1>\\n            </div>\\n            <div class=\"col-md'"
      ]
     },
     "execution_count": 33,
     "metadata": {},
     "output_type": "execute_result"
    }
   ],
   "source": [
    "# grab first 500 characters, just to get a rough outline of html doc\n",
    "result.text[:500]"
   ]
  },
  {
   "cell_type": "code",
   "execution_count": 7,
   "metadata": {},
   "outputs": [],
   "source": [
    "# convert into BeautifulSoup object\n",
    "soup = bs4.BeautifulSoup(result.text,\"lxml\")"
   ]
  },
  {
   "cell_type": "markdown",
   "metadata": {},
   "source": [
    "## TASK: Extract names of all unique authors on first page"
   ]
  },
  {
   "cell_type": "code",
   "execution_count": 14,
   "metadata": {},
   "outputs": [
    {
     "name": "stdout",
     "output_type": "stream",
     "text": [
      "Page 1:\n"
     ]
    },
    {
     "data": {
      "text/plain": [
       "{'Albert Einstein',\n",
       " 'André Gide',\n",
       " 'Eleanor Roosevelt',\n",
       " 'J.K. Rowling',\n",
       " 'Jane Austen',\n",
       " 'Marilyn Monroe',\n",
       " 'Steve Martin',\n",
       " 'Thomas A. Edison'}"
      ]
     },
     "execution_count": 14,
     "metadata": {},
     "output_type": "execute_result"
    }
   ],
   "source": [
    "# empty set to begin with\n",
    "authors = set()\n",
    "\n",
    "# add each author to set\n",
    "for item in soup.select(\".author\"):\n",
    "    authors.add(item.getText())\n",
    "\n",
    "print(\"Page 1:\")\n",
    "authors"
   ]
  },
  {
   "cell_type": "markdown",
   "metadata": {},
   "source": [
    "## TASK: Extract names of all unique authors for each page on website"
   ]
  },
  {
   "cell_type": "markdown",
   "metadata": {},
   "source": [
    "**All pages on website follow a format of 'http://quotes.toscrape.com/page/1/',\n",
    "where the number 1 represents the page number that can be replaced with any number**"
   ]
  },
  {
   "cell_type": "code",
   "execution_count": 35,
   "metadata": {},
   "outputs": [],
   "source": [
    "base_url = 'http://quotes.toscrape.com/page/{}/'"
   ]
  },
  {
   "cell_type": "code",
   "execution_count": 36,
   "metadata": {},
   "outputs": [
    {
     "data": {
      "text/plain": [
       "'http://quotes.toscrape.com/page/1/'"
      ]
     },
     "execution_count": 36,
     "metadata": {},
     "output_type": "execute_result"
    }
   ],
   "source": [
    "base_url.format('1') # example"
   ]
  },
  {
   "cell_type": "markdown",
   "metadata": {},
   "source": [
    "**Any pages after the last page (there are 10 pages total), will contain text that reads \"No Quotes Found!\". The class that contains this text is 'col-md-8'**"
   ]
  },
  {
   "cell_type": "code",
   "execution_count": 41,
   "metadata": {},
   "outputs": [
    {
     "data": {
      "text/plain": [
       "[<div class=\"col-md-8\">\n",
       " <h1>\n",
       " <a href=\"/\" style=\"text-decoration: none\">Quotes to Scrape</a>\n",
       " </h1>\n",
       " </div>,\n",
       " <div class=\"col-md-8\">\n",
       " \n",
       " No quotes found!\n",
       " \n",
       "     <nav>\n",
       " <ul class=\"pager\">\n",
       " <li class=\"previous\">\n",
       " <a href=\"/page/10/\"><span aria-hidden=\"true\">←</span> Previous</a>\n",
       " </li>\n",
       " </ul>\n",
       " </nav>\n",
       " </div>]"
      ]
     },
     "execution_count": 41,
     "metadata": {},
     "output_type": "execute_result"
    }
   ],
   "source": [
    "res = requests.get(base_url.format('11')) # go to page 11\n",
    "soup = bs4.BeautifulSoup(res.text,'lxml')\n",
    "\n",
    "soup.select('.col-md-8')"
   ]
  },
  {
   "cell_type": "code",
   "execution_count": 49,
   "metadata": {
    "scrolled": true
   },
   "outputs": [
    {
     "name": "stdout",
     "output_type": "stream",
     "text": [
      "Page 1:\n",
      "{'Thomas A. Edison', 'Eleanor Roosevelt', 'J.K. Rowling', 'André Gide', 'Jane Austen', 'Marilyn Monroe', 'Steve Martin', 'Albert Einstein'} \n",
      "\n",
      "Page 2:\n",
      "{'Friedrich Nietzsche', 'Mark Twain', 'Allen Saunders', 'Douglas Adams', 'Bob Marley', 'J.K. Rowling', 'Dr. Seuss', 'Marilyn Monroe', 'Elie Wiesel', 'Albert Einstein'} \n",
      "\n",
      "Page 3:\n",
      "{'Jim Henson', 'Mother Teresa', 'Bob Marley', 'J.K. Rowling', 'Dr. Seuss', 'Pablo Neruda', 'Garrison Keillor', 'Ralph Waldo Emerson', 'Albert Einstein'} \n",
      "\n",
      "Page 4:\n",
      "{'Mother Teresa', 'Charles M. Schulz', 'Bob Marley', 'J.K. Rowling', 'Dr. Seuss', 'William Nicholson', 'George Eliot', 'Jorge Luis Borges', 'Albert Einstein'} \n",
      "\n",
      "Page 5:\n",
      "{'Martin Luther King Jr.', 'J.K. Rowling', 'James Baldwin', 'George R.R. Martin', 'Marilyn Monroe', 'C.S. Lewis', 'Albert Einstein'} \n",
      "\n",
      "Page 6:\n",
      "{'Haruki Murakami', 'Ernest Hemingway', 'Eleanor Roosevelt', 'Stephenie Meyer', 'Helen Keller', 'Alexandre Dumas fils', 'George Bernard Shaw', 'Jane Austen', 'Marilyn Monroe', 'Albert Einstein'} \n",
      "\n",
      "Page 7:\n",
      "{'Ernest Hemingway', 'Mark Twain', 'Suzanne Collins', 'Charles Bukowski', 'J.K. Rowling', 'Dr. Seuss', 'J.R.R. Tolkien', 'Ralph Waldo Emerson', 'C.S. Lewis'} \n",
      "\n",
      "Page 8:\n",
      "{'Terry Pratchett', 'Mark Twain', 'George Carlin', 'Charles Bukowski', 'Dr. Seuss', 'Alfred Tennyson', 'John Lennon', 'Ayn Rand', 'W.C. Fields', 'J.D. Salinger'} \n",
      "\n",
      "Page 9:\n",
      "{'Mark Twain', 'J.K. Rowling', 'Jane Austen', 'C.S. Lewis', 'Albert Einstein'} \n",
      "\n",
      "Page 10:\n",
      "{'Jimi Hendrix', 'Mark Twain', 'Khaled Hosseini', 'George R.R. Martin', 'E.E. Cummings', 'J.K. Rowling', 'Harper Lee', 'J.M. Barrie', \"Madeleine L'Engle\", 'Dr. Seuss'} \n",
      "\n",
      "Last page is 10\n"
     ]
    }
   ],
   "source": [
    "# iterator used to refer to page number\n",
    "i = 0\n",
    "\n",
    "while True:\n",
    "    '''\n",
    "    Loop through each page and print unique authors on that page\n",
    "    '''\n",
    "    \n",
    "    i += 1 # go to next page\n",
    "    authors = set() # set for name of authors\n",
    "    no_quotes = False # boolean to check if there are quotes on page\n",
    "    \n",
    "    res = requests.get(base_url.format(i))\n",
    "    soup = bs4.BeautifulSoup(res.text,'lxml')\n",
    "\n",
    "    # check if the \"No quotes found!\" is on current page\n",
    "    for div_class in soup.select('.col-md-8'):\n",
    "        if (\"No quotes found!\" in div_class.text) == True:\n",
    "            no_quotes = True\n",
    "            print(\"Last page is\",i-1)\n",
    "            break\n",
    "        else:\n",
    "            pass\n",
    "    \n",
    "    # End loop if there are no quotes\n",
    "    if no_quotes == True:\n",
    "        break\n",
    "    else:\n",
    "        pass\n",
    "    \n",
    "    # add each unique author to set\n",
    "    for item in soup.select(\".author\"):\n",
    "        authors.add(item.text)\n",
    "        \n",
    "    print(\"Page \" + str(i) + \":\")\n",
    "    print(authors,\"\\n\")"
   ]
  },
  {
   "cell_type": "markdown",
   "metadata": {},
   "source": [
    "## TASK: Create a list of all the quotes on the first page"
   ]
  },
  {
   "cell_type": "code",
   "execution_count": 51,
   "metadata": {},
   "outputs": [],
   "source": [
    "result = requests.get(\"http://quotes.toscrape.com/\")\n",
    "soup = bs4.BeautifulSoup(result.text,\"lxml\")"
   ]
  },
  {
   "cell_type": "code",
   "execution_count": 53,
   "metadata": {},
   "outputs": [
    {
     "name": "stdout",
     "output_type": "stream",
     "text": [
      "Page 1:\n"
     ]
    },
    {
     "data": {
      "text/plain": [
       "['“The world as we have created it is a process of our thinking. It cannot be changed without changing our thinking.”',\n",
       " '“It is our choices, Harry, that show what we truly are, far more than our abilities.”',\n",
       " '“There are only two ways to live your life. One is as though nothing is a miracle. The other is as though everything is a miracle.”',\n",
       " '“The person, be it gentleman or lady, who has not pleasure in a good novel, must be intolerably stupid.”',\n",
       " \"“Imperfection is beauty, madness is genius and it's better to be absolutely ridiculous than absolutely boring.”\",\n",
       " '“Try not to become a man of success. Rather become a man of value.”',\n",
       " '“It is better to be hated for what you are than to be loved for what you are not.”',\n",
       " \"“I have not failed. I've just found 10,000 ways that won't work.”\",\n",
       " \"“A woman is like a tea bag; you never know how strong it is until it's in hot water.”\",\n",
       " '“A day without sunshine is like, you know, night.”']"
      ]
     },
     "execution_count": 53,
     "metadata": {},
     "output_type": "execute_result"
    }
   ],
   "source": [
    "# empty list to begin with\n",
    "quotes = []\n",
    "\n",
    "# add each quote to list\n",
    "for quote in soup.select(\".text\"):\n",
    "    quotes.append(quote.text)\n",
    "\n",
    "print(\"Page 1:\")\n",
    "quotes"
   ]
  },
  {
   "cell_type": "markdown",
   "metadata": {},
   "source": [
    "**We could also print out the quotes with their corresponding author**"
   ]
  },
  {
   "cell_type": "code",
   "execution_count": 62,
   "metadata": {},
   "outputs": [
    {
     "name": "stdout",
     "output_type": "stream",
     "text": [
      "Albert Einstein\n",
      "J.K. Rowling\n",
      "Albert Einstein\n",
      "Jane Austen\n",
      "Marilyn Monroe\n",
      "Albert Einstein\n",
      "André Gide\n",
      "Thomas A. Edison\n",
      "Eleanor Roosevelt\n",
      "Steve Martin\n"
     ]
    }
   ],
   "source": [
    "for author in soup.select(\".author\"):\n",
    "    print(author.text)"
   ]
  },
  {
   "cell_type": "code",
   "execution_count": 79,
   "metadata": {},
   "outputs": [
    {
     "name": "stdout",
     "output_type": "stream",
     "text": [
      "Albert Einstein: “The world as we have created it is a process of our thinking. It cannot be changed without changing our thinking.”\n",
      "\n",
      "J.K. Rowling: “It is our choices, Harry, that show what we truly are, far more than our abilities.”\n",
      "\n",
      "Albert Einstein: “There are only two ways to live your life. One is as though nothing is a miracle. The other is as though everything is a miracle.”\n",
      "\n",
      "Jane Austen: “The person, be it gentleman or lady, who has not pleasure in a good novel, must be intolerably stupid.”\n",
      "\n",
      "Marilyn Monroe: “Imperfection is beauty, madness is genius and it's better to be absolutely ridiculous than absolutely boring.”\n",
      "\n",
      "Albert Einstein: “Try not to become a man of success. Rather become a man of value.”\n",
      "\n",
      "André Gide: “It is better to be hated for what you are than to be loved for what you are not.”\n",
      "\n",
      "Thomas A. Edison: “I have not failed. I've just found 10,000 ways that won't work.”\n",
      "\n",
      "Eleanor Roosevelt: “A woman is like a tea bag; you never know how strong it is until it's in hot water.”\n",
      "\n",
      "Steve Martin: “A day without sunshine is like, you know, night.”\n",
      "\n"
     ]
    }
   ],
   "source": [
    "# add each author and their quote\n",
    "for i, author in enumerate(soup.select(\".author\")):\n",
    "    print(author.text + \": \" + soup.select(\".text\")[i].text + \"\\n\")"
   ]
  },
  {
   "cell_type": "markdown",
   "metadata": {},
   "source": [
    "## TASK: Extract top ten tags shown on the top right of page"
   ]
  },
  {
   "cell_type": "code",
   "execution_count": 68,
   "metadata": {},
   "outputs": [
    {
     "data": {
      "text/plain": [
       "[<span class=\"tag-item\">\n",
       " <a class=\"tag\" href=\"/tag/love/\" style=\"font-size: 28px\">love</a>\n",
       " </span>,\n",
       " <span class=\"tag-item\">\n",
       " <a class=\"tag\" href=\"/tag/inspirational/\" style=\"font-size: 26px\">inspirational</a>\n",
       " </span>,\n",
       " <span class=\"tag-item\">\n",
       " <a class=\"tag\" href=\"/tag/life/\" style=\"font-size: 26px\">life</a>\n",
       " </span>,\n",
       " <span class=\"tag-item\">\n",
       " <a class=\"tag\" href=\"/tag/humor/\" style=\"font-size: 24px\">humor</a>\n",
       " </span>,\n",
       " <span class=\"tag-item\">\n",
       " <a class=\"tag\" href=\"/tag/books/\" style=\"font-size: 22px\">books</a>\n",
       " </span>,\n",
       " <span class=\"tag-item\">\n",
       " <a class=\"tag\" href=\"/tag/reading/\" style=\"font-size: 14px\">reading</a>\n",
       " </span>,\n",
       " <span class=\"tag-item\">\n",
       " <a class=\"tag\" href=\"/tag/friendship/\" style=\"font-size: 10px\">friendship</a>\n",
       " </span>,\n",
       " <span class=\"tag-item\">\n",
       " <a class=\"tag\" href=\"/tag/friends/\" style=\"font-size: 8px\">friends</a>\n",
       " </span>,\n",
       " <span class=\"tag-item\">\n",
       " <a class=\"tag\" href=\"/tag/truth/\" style=\"font-size: 8px\">truth</a>\n",
       " </span>,\n",
       " <span class=\"tag-item\">\n",
       " <a class=\"tag\" href=\"/tag/simile/\" style=\"font-size: 6px\">simile</a>\n",
       " </span>]"
      ]
     },
     "execution_count": 68,
     "metadata": {},
     "output_type": "execute_result"
    }
   ],
   "source": [
    "# class used for the tags\n",
    "soup.select('.tag-item')"
   ]
  },
  {
   "cell_type": "markdown",
   "metadata": {},
   "source": [
    "**Note that each tag text contains \\n at both ends of the string. So we'll use indexing and slicing to remove the newlines**"
   ]
  },
  {
   "cell_type": "code",
   "execution_count": 72,
   "metadata": {},
   "outputs": [
    {
     "data": {
      "text/plain": [
       "'\\nlove\\n'"
      ]
     },
     "execution_count": 72,
     "metadata": {},
     "output_type": "execute_result"
    }
   ],
   "source": [
    "soup.select(\".tag-item\")[0].text"
   ]
  },
  {
   "cell_type": "code",
   "execution_count": 73,
   "metadata": {},
   "outputs": [
    {
     "data": {
      "text/plain": [
       "'love'"
      ]
     },
     "execution_count": 73,
     "metadata": {},
     "output_type": "execute_result"
    }
   ],
   "source": [
    "soup.select(\".tag-item\")[0].text[1:-1]"
   ]
  },
  {
   "cell_type": "code",
   "execution_count": 78,
   "metadata": {},
   "outputs": [
    {
     "name": "stdout",
     "output_type": "stream",
     "text": [
      "1 : love\n",
      "2 : inspirational\n",
      "3 : life\n",
      "4 : humor\n",
      "5 : books\n",
      "6 : reading\n",
      "7 : friendship\n",
      "8 : friends\n",
      "9 : truth\n",
      "10 : simile\n"
     ]
    }
   ],
   "source": [
    "for i,item in enumerate(soup.select(\".tag-item\")):\n",
    "    print(i+1,\":\",item.text[1:-1]) # slicing used to remove newlines"
   ]
  }
 ],
 "metadata": {
  "kernelspec": {
   "display_name": "Python 3",
   "language": "python",
   "name": "python3"
  },
  "language_info": {
   "codemirror_mode": {
    "name": "ipython",
    "version": 3
   },
   "file_extension": ".py",
   "mimetype": "text/x-python",
   "name": "python",
   "nbconvert_exporter": "python",
   "pygments_lexer": "ipython3",
   "version": "3.8.3"
  }
 },
 "nbformat": 4,
 "nbformat_minor": 4
}
